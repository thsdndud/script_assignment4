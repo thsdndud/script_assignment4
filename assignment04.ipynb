{
 "cells": [
  {
   "cell_type": "code",
   "execution_count": null,
   "metadata": {
    "scrolled": true
   },
   "outputs": [],
   "source": []
  },
  {
   "cell_type": "markdown",
   "metadata": {},
   "source": [
    "[1번 문제]"
   ]
  },
  {
   "cell_type": "code",
   "execution_count": null,
   "metadata": {},
   "outputs": [],
   "source": []
  },
  {
   "cell_type": "markdown",
   "metadata": {},
   "source": [
    "[2번 문제]"
   ]
  },
  {
   "cell_type": "code",
   "execution_count": null,
   "metadata": {},
   "outputs": [],
   "source": []
  },
  {
   "cell_type": "markdown",
   "metadata": {},
   "source": [
    "[3번 문제]"
   ]
  },
  {
   "cell_type": "code",
   "execution_count": null,
   "metadata": {},
   "outputs": [],
   "source": [
    "def sum(n=0, *num):\n",
    "    s = n\n",
    "    for i in num:\n",
    "        s += i\n",
    "    return s\n",
    "\n",
    "print(sum())\n",
    "print(sum(1, 2))\n",
    "print(sum(1, 2, 3, 4, 5))\n",
    "print(sum(1, 5, 7, 2, -10))"
   ]
  },
  {
   "cell_type": "markdown",
   "metadata": {},
   "source": [
    "[4번 문제]\n",
    "\n",
    "sum()함수의 n과 가변인수 num을 매개변수로 사용한다. 이때 n의 디폴트 값은 0이다. <br/> s에 n을 복사하고 가변인수 num의 요소들을 하나씩 s에 더한 뒤 s를 리턴한다.\n",
    "<br/> 예문에 맞춰 sum()을 실행한다."
   ]
  },
  {
   "cell_type": "code",
   "execution_count": null,
   "metadata": {},
   "outputs": [],
   "source": [
    "def myinitial():\n",
    "    print(''.join(list(map(lambda x: x[0].upper(), input().split()))))\n",
    "    \n",
    "myinitial()"
   ]
  },
  {
   "cell_type": "markdown",
   "metadata": {},
   "source": [
    "[5번 문제]\n",
    "\n",
    "myinitial()함수는 input함수로 문자열을 입력받고 공백을 기준으로 split을 한 뒤 단어로 나눈다.<br/> 람다함수를 사용하여 각 단어의 첫글자를 가져온 뒤 대문자로 만들어 준다. 이후 대문자로 바뀐 문자들을 join()함수를 이용하여 모두 합친 뒤 출력한다."
   ]
  },
  {
   "cell_type": "code",
   "execution_count": 6,
   "metadata": {},
   "outputs": [
    {
     "name": "stdout",
     "output_type": "stream",
     "text": [
      "-2\n",
      "음이 아닌 정수 n을 입력하세요\n",
      "-3\n",
      "음이 아닌 정수 n을 입력하세요\n",
      "1\n",
      "1\n"
     ]
    }
   ],
   "source": [
    "def myfact(num):\n",
    "    if num == 1:\n",
    "        return 1\n",
    "    return num * myfact(num - 1)\n",
    "\n",
    "n = int(input())\n",
    "while n < 0 :\n",
    "    print(\"음이 아닌 정수 n을 입력하세요\")\n",
    "    n = int(input())\n",
    "\n",
    "if n == 0:\n",
    "    print(\"0\")\n",
    "else:\n",
    "    print(myfact(n))"
   ]
  },
  {
   "cell_type": "markdown",
   "metadata": {},
   "source": [
    "[6번 문제]\n",
    "n에 정수를 입력받고 음이 아닌 정수인지 검사한다. 만약 n이 음의 정수라면 n을 다시입력받는다.<br/> n이 0이라면 0을 출력하고 0이 아니라면 myfact()재귀함수를 돌린다.<br/>myfact() 에선 첫번째 입력받은 숫자 n과 n-1, n-2, ... ,1 을 모두 곱해서 반환한다."
   ]
  },
  {
   "cell_type": "code",
   "execution_count": null,
   "metadata": {},
   "outputs": [],
   "source": []
  },
  {
   "cell_type": "markdown",
   "metadata": {},
   "source": [
    "[7번 문제]\n",
    "(서술형) import string 과 from string import * 의 차이점을 설명하시오.\n",
    "\n",
    "\"import string\" 은 string 모듈에 존재하는 모든 이름들을 이름공간으로 불러들여서 string.이름() 형태로 자격 이름을 사용한다. <br/> 반면에 \"from string import * \" 은 string 모듈에 존재하는 '__' 로 시작되는 이름들을 제외한 나머지 모든 이름들을 현재 이름공간으로 불러들여서 이름() 형태로 자격 이름을 사용한다."
   ]
  },
  {
   "cell_type": "code",
   "execution_count": null,
   "metadata": {},
   "outputs": [],
   "source": []
  },
  {
   "cell_type": "markdown",
   "metadata": {},
   "source": [
    "[8번 문제]"
   ]
  }
 ],
 "metadata": {
  "kernelspec": {
   "display_name": "Python 3",
   "language": "python",
   "name": "python3"
  },
  "language_info": {
   "codemirror_mode": {
    "name": "ipython",
    "version": 3
   },
   "file_extension": ".py",
   "mimetype": "text/x-python",
   "name": "python",
   "nbconvert_exporter": "python",
   "pygments_lexer": "ipython3",
   "version": "3.6.5"
  }
 },
 "nbformat": 4,
 "nbformat_minor": 2
}
